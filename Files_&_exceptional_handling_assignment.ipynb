{
  "nbformat": 4,
  "nbformat_minor": 0,
  "metadata": {
    "colab": {
      "provenance": []
    },
    "kernelspec": {
      "name": "python3",
      "display_name": "Python 3"
    },
    "language_info": {
      "name": "python"
    }
  },
  "cells": [
    {
      "cell_type": "markdown",
      "source": [
        "#Files & exceptional handling assignment :"
      ],
      "metadata": {
        "id": "Mq7IarXjsjlW"
      }
    },
    {
      "cell_type": "markdown",
      "source": [
        "Theory Questions"
      ],
      "metadata": {
        "id": "wVH1hhbes3IV"
      }
    },
    {
      "cell_type": "markdown",
      "source": [
        "1. What is the difference between interpreted and compiled languages\n",
        "- Interpreted languages execute code line-by-line (e.g., Python); compiled languages convert code to machine language before execution (e.g., C++).\n",
        "\n",
        "2. What is exception handling in Python?\n",
        "- It handles runtime errors using try, except, else, and finally blocks.\n",
        "\n",
        "3. What is the purpose of the finally block in exception handling?\n",
        "- Executes code regardless of whether an exception occurred or not.\n",
        "\n",
        "4. What is logging in Python?\n",
        "- It's a way to track events that happen during program execution for debugging or monitoring.\n",
        "\n",
        "5. What is the significance of the __del__ method in Python?\n",
        "- Called when an object is deleted; used for cleanup actions.\n",
        "\n",
        "6. What is the difference between import and from ... import in Python?\n",
        "- import module imports the whole module; from module import func imports specific elements.\n",
        "\n",
        "7. How can you handle multiple exceptions in Python?\n",
        "- How can you handle multiple exceptions in Python\n",
        "\n",
        "8. What is the purpose of the with statement when handling files in Python?\n",
        "- Automatically handles file opening and closing, even if errors occur.\n",
        "\n",
        "9. F What is the difference between multithreading and multiprocessing\n",
        "- Multithreading runs threads (shared memory); multiprocessing uses multiple processes (separate memory).\n",
        "\n",
        "10. What are the advantages of using logging in a program?\n",
        "- Helps in debugging, monitoring, and maintaining records of execution.\n",
        "\n",
        "11. What is memory management in Python?\n",
        "- Python manages memory using reference counting and a garbage collector.\n",
        "\n",
        "12. What are the basic steps involved in exception handling in Python?\n",
        "- Use try block to write risky code, except to handle exceptions, else for success, and finally for cleanup.\n",
        "\n",
        "13. Why is memory management important in Python?\n",
        "- Prevents memory leaks and ensures efficient use of system resources.\n",
        "\n",
        "14. F What is the role of try and except in exception handling?\n",
        "- Catches and handles runtime errors to prevent program crashes.\n",
        "\n",
        "15. How does Python's garbage collection system work?\n",
        "- Automatically frees memory by deleting unused objects using reference counting and cyclic GC.\n",
        "\n",
        "16. F What is the purpose of the else block in exception handling?\n",
        "- Executes code if no exceptions are raised in the try block.\n",
        "\n",
        "17. What are the common logging levels in Python?\n",
        "- DEBUG, INFO, WARNING, ERROR, CRITICAL.\n",
        "\n",
        "18. What is the difference between os.fork() and multiprocessing in Python?\n",
        "- os.fork() creates a child process (Unix only); multiprocessing is platform-independent and safer for concurrency.\n",
        "\n",
        "19. F What is the importance of closing a file in Python?\n",
        "- Frees up system resources and ensures data is written properly.\n",
        "\n",
        "20. What is the difference between file.read() and file.readline() in Python0\n",
        "- read() reads the whole file; readline() reads one line at a time.\n",
        "\n",
        "21. F What is the logging module in Python used for?\n",
        "- Used to log messages to console or files for debugging and monitoring.\n",
        "\n",
        "22. What is the os module in Python used for in file handling?\n",
        "- Handles directory and file path operations like creating, deleting, and navigating.\n",
        "\n",
        "23. What are the challenges associated with memory management in Python\n",
        "- Includes memory leaks, inefficient use, and managing large data structures.\n",
        "\n",
        "24. How do you raise an exception manually in Python?\n",
        "- Use raise keyword with an exception: raise ValueError(\"Invalid value\").\n",
        "\n",
        "25. Why is it important to use multithreading in certain applications?\n",
        "- Improves performance in I/O-bound tasks and enables concurrent execution.\n",
        "\n"
      ],
      "metadata": {
        "id": "ka17vpEUs70t"
      }
    },
    {
      "cell_type": "markdown",
      "source": [
        "Practical Questions:\n"
      ],
      "metadata": {
        "id": "80whbeZvww0Y"
      }
    },
    {
      "cell_type": "code",
      "source": [
        "# 1. How can you open a file for writing in Python and write a string to it\n",
        "with open(\"file.txt\", \"w\") as f:\n",
        "    f.write(\"Hello, Python!\")\n"
      ],
      "metadata": {
        "id": "yY81jFqos1-L"
      },
      "execution_count": 2,
      "outputs": []
    },
    {
      "cell_type": "code",
      "source": [
        "# 2. Write a Python program to read the contents of a file and print each line\n",
        "with open(\"file.txt\", \"r\") as f:\n",
        "    for line in f:\n",
        "        print(line.strip())\n"
      ],
      "metadata": {
        "colab": {
          "base_uri": "https://localhost:8080/"
        },
        "id": "qF63gVqgxFke",
        "outputId": "2c0a6bfd-c92d-4f89-be7f-c988bd73c603"
      },
      "execution_count": 3,
      "outputs": [
        {
          "output_type": "stream",
          "name": "stdout",
          "text": [
            "Hello, Python!\n"
          ]
        }
      ]
    },
    {
      "cell_type": "code",
      "source": [
        "# 3.  How would you handle a case where the file doesn't exist while trying to open it for reading\n",
        "try:\n",
        "    with open(\"file.txt\", \"r\") as f:\n",
        "        print(f.read())\n",
        "except FileNotFoundError:\n",
        "    print(\"File not found!\")\n"
      ],
      "metadata": {
        "colab": {
          "base_uri": "https://localhost:8080/"
        },
        "id": "Z224E4uOxNfg",
        "outputId": "95096d86-9266-47fe-848e-bf0ce6583e37"
      },
      "execution_count": 4,
      "outputs": [
        {
          "output_type": "stream",
          "name": "stdout",
          "text": [
            "Hello, Python!\n"
          ]
        }
      ]
    },
    {
      "cell_type": "code",
      "source": [
        "# 4. F Write a Python script that reads from one file and writes its content to another file\n",
        "with open(\"input.txt\", \"r\") as infile, open(\"output.txt\", \"w\") as outfile:\n",
        "    for line in infile:\n",
        "        outfile.write(line)\n"
      ],
      "metadata": {
        "colab": {
          "base_uri": "https://localhost:8080/",
          "height": 193
        },
        "id": "U4QHChffxWR2",
        "outputId": "690c567e-05e8-4435-f047-ecaa2d83db6f"
      },
      "execution_count": 5,
      "outputs": [
        {
          "output_type": "error",
          "ename": "FileNotFoundError",
          "evalue": "[Errno 2] No such file or directory: 'input.txt'",
          "traceback": [
            "\u001b[0;31m---------------------------------------------------------------------------\u001b[0m",
            "\u001b[0;31mFileNotFoundError\u001b[0m                         Traceback (most recent call last)",
            "\u001b[0;32m<ipython-input-5-24e039cce7b1>\u001b[0m in \u001b[0;36m<cell line: 0>\u001b[0;34m()\u001b[0m\n\u001b[1;32m      1\u001b[0m \u001b[0;31m# 4. F Write a Python script that reads from one file and writes its content to another file\u001b[0m\u001b[0;34m\u001b[0m\u001b[0;34m\u001b[0m\u001b[0m\n\u001b[0;32m----> 2\u001b[0;31m \u001b[0;32mwith\u001b[0m \u001b[0mopen\u001b[0m\u001b[0;34m(\u001b[0m\u001b[0;34m\"input.txt\"\u001b[0m\u001b[0;34m,\u001b[0m \u001b[0;34m\"r\"\u001b[0m\u001b[0;34m)\u001b[0m \u001b[0;32mas\u001b[0m \u001b[0minfile\u001b[0m\u001b[0;34m,\u001b[0m \u001b[0mopen\u001b[0m\u001b[0;34m(\u001b[0m\u001b[0;34m\"output.txt\"\u001b[0m\u001b[0;34m,\u001b[0m \u001b[0;34m\"w\"\u001b[0m\u001b[0;34m)\u001b[0m \u001b[0;32mas\u001b[0m \u001b[0moutfile\u001b[0m\u001b[0;34m:\u001b[0m\u001b[0;34m\u001b[0m\u001b[0;34m\u001b[0m\u001b[0m\n\u001b[0m\u001b[1;32m      3\u001b[0m     \u001b[0;32mfor\u001b[0m \u001b[0mline\u001b[0m \u001b[0;32min\u001b[0m \u001b[0minfile\u001b[0m\u001b[0;34m:\u001b[0m\u001b[0;34m\u001b[0m\u001b[0;34m\u001b[0m\u001b[0m\n\u001b[1;32m      4\u001b[0m         \u001b[0moutfile\u001b[0m\u001b[0;34m.\u001b[0m\u001b[0mwrite\u001b[0m\u001b[0;34m(\u001b[0m\u001b[0mline\u001b[0m\u001b[0;34m)\u001b[0m\u001b[0;34m\u001b[0m\u001b[0;34m\u001b[0m\u001b[0m\n",
            "\u001b[0;31mFileNotFoundError\u001b[0m: [Errno 2] No such file or directory: 'input.txt'"
          ]
        }
      ]
    },
    {
      "cell_type": "code",
      "source": [
        "# 5. How would you catch and handle division by zero error in Python\n",
        "try:\n",
        "    result = 10 / 0\n",
        "except ZeroDivisionError:\n",
        "    print(\"Cannot divide by zero.\")\n"
      ],
      "metadata": {
        "colab": {
          "base_uri": "https://localhost:8080/"
        },
        "id": "0PPHceF9xiqE",
        "outputId": "44cd459d-3a7f-4ce6-ef34-1a6e3539ff5e"
      },
      "execution_count": 6,
      "outputs": [
        {
          "output_type": "stream",
          "name": "stdout",
          "text": [
            "Cannot divide by zero.\n"
          ]
        }
      ]
    },
    {
      "cell_type": "code",
      "source": [
        "# 6. F Write a Python program that logs an error message to a log file when a division by zero exception occurs\n",
        "import logging\n",
        "logging.basicConfig(filename=\"logfile.log\", level=logging.ERROR)\n",
        "\n",
        "try:\n",
        "    1 / 0\n",
        "except ZeroDivisionError as e:\n",
        "    logging.error(f\"Division by zero error: {e}\")\n"
      ],
      "metadata": {
        "colab": {
          "base_uri": "https://localhost:8080/"
        },
        "id": "Ipgr1n7_xrjh",
        "outputId": "4aab45b1-120d-4e6c-98bf-7845d47bce7e"
      },
      "execution_count": 7,
      "outputs": [
        {
          "output_type": "stream",
          "name": "stderr",
          "text": [
            "ERROR:root:Division by zero error: division by zero\n"
          ]
        }
      ]
    },
    {
      "cell_type": "code",
      "source": [
        "# 7.  How do you log information at different levels (INFO, ERROR, WARNING) in Python using the logging module\n",
        "import logging\n",
        "logging.basicConfig(level=logging.DEBUG)\n",
        "logging.info(\"This is INFO\")\n",
        "logging.warning(\"This is WARNING\")\n",
        "logging.error(\"This is ERROR\")\n"
      ],
      "metadata": {
        "colab": {
          "base_uri": "https://localhost:8080/"
        },
        "id": "bM3g0_Zzx0WB",
        "outputId": "e635806d-4ef4-48f3-d047-1429cbc61ce1"
      },
      "execution_count": 8,
      "outputs": [
        {
          "output_type": "stream",
          "name": "stderr",
          "text": [
            "WARNING:root:This is WARNING\n",
            "ERROR:root:This is ERROR\n"
          ]
        }
      ]
    },
    {
      "cell_type": "code",
      "source": [
        "#8. Write a program to handle a file opening error using exception handling\n",
        "try:\n",
        "    with open(\"nonexistent.txt\", \"r\") as f:\n",
        "        data = f.read()\n",
        "except FileNotFoundError:\n",
        "    print(\"File not found!\")\n"
      ],
      "metadata": {
        "colab": {
          "base_uri": "https://localhost:8080/"
        },
        "id": "HFaaiYP7x8kJ",
        "outputId": "5c5bd7d9-9bf6-4eb4-fa30-add6d933f2ce"
      },
      "execution_count": 9,
      "outputs": [
        {
          "output_type": "stream",
          "name": "stdout",
          "text": [
            "File not found!\n"
          ]
        }
      ]
    },
    {
      "cell_type": "code",
      "source": [],
      "metadata": {
        "id": "pxBmYsyryH7L"
      },
      "execution_count": null,
      "outputs": []
    },
    {
      "cell_type": "code",
      "source": [
        "# 9. How can you read a file line by line and store its content in a list in Python\n",
        "with open(\"file.txt\", \"r\") as f:\n",
        "    lines = [line.strip() for line in f]\n"
      ],
      "metadata": {
        "id": "z1mnySiVyCZS"
      },
      "execution_count": 10,
      "outputs": []
    },
    {
      "cell_type": "code",
      "source": [
        "# 10.  How can you append data to an existing file in Python\n",
        "with open(\"file.txt\", \"a\") as f:\n",
        "    f.write(\"\\nNew line added\")\n"
      ],
      "metadata": {
        "id": "Bh5QcY8KyLqG"
      },
      "execution_count": 11,
      "outputs": []
    },
    {
      "cell_type": "code",
      "source": [
        "# 11. Write a Python program that uses a try-except block to handle an error when attempting to access a dictionary key that doesn't exist\n",
        "my_dict = {\"a\": 1}\n",
        "try:\n",
        "    print(my_dict[\"b\"])\n",
        "except KeyError:\n",
        "    print(\"Key not found!\")\n"
      ],
      "metadata": {
        "colab": {
          "base_uri": "https://localhost:8080/"
        },
        "id": "3s02WLBryTJ5",
        "outputId": "f7017b0e-91ec-414c-bd51-9cf38e14fa83"
      },
      "execution_count": 12,
      "outputs": [
        {
          "output_type": "stream",
          "name": "stdout",
          "text": [
            "Key not found!\n"
          ]
        }
      ]
    },
    {
      "cell_type": "code",
      "source": [
        "# 12.  Write a program that demonstrates using multiple except blocks to handle different types of exceptions\n",
        "try:\n",
        "    lst = [1, 2]\n",
        "    print(lst[5])\n",
        "except IndexError:\n",
        "    print(\"Index error occurred.\")\n",
        "except Exception as e:\n",
        "    print(f\"Other error: {e}\")\n"
      ],
      "metadata": {
        "colab": {
          "base_uri": "https://localhost:8080/"
        },
        "id": "v7BAooVgye3C",
        "outputId": "e134e3f0-76c0-47bb-d27f-57a9aaf8d55e"
      },
      "execution_count": 13,
      "outputs": [
        {
          "output_type": "stream",
          "name": "stdout",
          "text": [
            "Index error occurred.\n"
          ]
        }
      ]
    },
    {
      "cell_type": "code",
      "source": [
        "# 13. How would you check if a file exists before attempting to read it in Python\u001f & Write a program that uses the logging module to log both informational and error\n",
        "import os\n",
        "if os.path.exists(\"file.txt\"):\n",
        "    with open(\"file.txt\", \"r\") as f:\n",
        "        print(f.read())\n",
        "else:\n",
        "    print(\"File does not exist.\")\n"
      ],
      "metadata": {
        "colab": {
          "base_uri": "https://localhost:8080/"
        },
        "id": "svjIIcfwykzt",
        "outputId": "f777ad4d-e436-4cdf-c211-75c837a27bf5"
      },
      "execution_count": 14,
      "outputs": [
        {
          "output_type": "stream",
          "name": "stdout",
          "text": [
            "Hello, Python!\n",
            "New line added\n"
          ]
        }
      ]
    },
    {
      "cell_type": "code",
      "source": [
        "# 14. Write a program that uses the logging module to log both informational and error messagesF\n",
        "import logging\n",
        "logging.basicConfig(filename=\"app.log\", level=logging.DEBUG)\n",
        "logging.info(\"This is an info message\")\n",
        "logging.error(\"This is an error message\")\n"
      ],
      "metadata": {
        "colab": {
          "base_uri": "https://localhost:8080/"
        },
        "id": "4i5Fh7fByuY1",
        "outputId": "c75f42b2-cf83-411e-c24d-0db95b7c4b03"
      },
      "execution_count": 15,
      "outputs": [
        {
          "output_type": "stream",
          "name": "stderr",
          "text": [
            "ERROR:root:This is an error message\n"
          ]
        }
      ]
    },
    {
      "cell_type": "code",
      "source": [
        "# 15. F Write a Python program that prints the content of a file and handles the case when the file is emptyF\n",
        "with open(\"file.txt\", \"r\") as f:\n",
        "    content = f.read()\n",
        "    if content:\n",
        "        print(content)\n",
        "    else:\n",
        "        print(\"File is empty.\")\n"
      ],
      "metadata": {
        "colab": {
          "base_uri": "https://localhost:8080/"
        },
        "id": "Dd_EP4PAy0kf",
        "outputId": "a0494250-db47-4d34-cc03-c39ef742dd98"
      },
      "execution_count": 16,
      "outputs": [
        {
          "output_type": "stream",
          "name": "stdout",
          "text": [
            "Hello, Python!\n",
            "New line added\n"
          ]
        }
      ]
    },
    {
      "cell_type": "code",
      "source": [
        "# 16. Demonstrate how to use memory profiling to check the memory usage of a small program\n",
        "# Install memory_profiler first: pip install memory_profiler\n",
        "from memory_profiler import profile\n",
        "\n",
        "@profile\n",
        "def test():\n",
        "    a = [i for i in range(10000)]\n",
        "    return a\n",
        "\n",
        "test()\n"
      ],
      "metadata": {
        "colab": {
          "base_uri": "https://localhost:8080/",
          "height": 383
        },
        "id": "Kn2jX6szy7nF",
        "outputId": "af5a8cd7-b178-4154-95ab-6d228be969d5"
      },
      "execution_count": 17,
      "outputs": [
        {
          "output_type": "error",
          "ename": "ModuleNotFoundError",
          "evalue": "No module named 'memory_profiler'",
          "traceback": [
            "\u001b[0;31m---------------------------------------------------------------------------\u001b[0m",
            "\u001b[0;31mModuleNotFoundError\u001b[0m                       Traceback (most recent call last)",
            "\u001b[0;32m<ipython-input-17-7a01e10e0f8f>\u001b[0m in \u001b[0;36m<cell line: 0>\u001b[0;34m()\u001b[0m\n\u001b[1;32m      1\u001b[0m \u001b[0;31m# 16. Demonstrate how to use memory profiling to check the memory usage of a small program\u001b[0m\u001b[0;34m\u001b[0m\u001b[0;34m\u001b[0m\u001b[0m\n\u001b[1;32m      2\u001b[0m \u001b[0;31m# Install memory_profiler first: pip install memory_profiler\u001b[0m\u001b[0;34m\u001b[0m\u001b[0;34m\u001b[0m\u001b[0m\n\u001b[0;32m----> 3\u001b[0;31m \u001b[0;32mfrom\u001b[0m \u001b[0mmemory_profiler\u001b[0m \u001b[0;32mimport\u001b[0m \u001b[0mprofile\u001b[0m\u001b[0;34m\u001b[0m\u001b[0;34m\u001b[0m\u001b[0m\n\u001b[0m\u001b[1;32m      4\u001b[0m \u001b[0;34m\u001b[0m\u001b[0m\n\u001b[1;32m      5\u001b[0m \u001b[0;34m@\u001b[0m\u001b[0mprofile\u001b[0m\u001b[0;34m\u001b[0m\u001b[0;34m\u001b[0m\u001b[0m\n",
            "\u001b[0;31mModuleNotFoundError\u001b[0m: No module named 'memory_profiler'",
            "",
            "\u001b[0;31m---------------------------------------------------------------------------\u001b[0;32m\nNOTE: If your import is failing due to a missing package, you can\nmanually install dependencies using either !pip or !apt.\n\nTo view examples of installing some common dependencies, click the\n\"Open Examples\" button below.\n\u001b[0;31m---------------------------------------------------------------------------\u001b[0m\n"
          ],
          "errorDetails": {
            "actions": [
              {
                "action": "open_url",
                "actionText": "Open Examples",
                "url": "/notebooks/snippets/importing_libraries.ipynb"
              }
            ]
          }
        }
      ]
    },
    {
      "cell_type": "code",
      "source": [
        "# 17. F Write a Python program to create and write a list of numbers to a file, one number per lineF\n",
        "numbers = [1, 2, 3, 4, 5]\n",
        "with open(\"nums.txt\", \"w\") as f:\n",
        "    for num in numbers:\n",
        "        f.write(str(num) + \"\\n\")\n",
        "\n"
      ],
      "metadata": {
        "id": "U0Dvoc9XzB3a"
      },
      "execution_count": 18,
      "outputs": []
    },
    {
      "cell_type": "code",
      "source": [
        "# 18. How would you implement a basic logging setup that logs to a file with rotation after 1MB\n",
        "import logging\n",
        "from logging.handlers import RotatingFileHandler\n",
        "\n",
        "handler = RotatingFileHandler(\"myapp.log\", maxBytes=2000, backupCount=5)\n",
        "logging.basicConfig(handlers=[handler], level=logging.INFO)\n",
        "logging.info(\"App started\")\n"
      ],
      "metadata": {
        "id": "BIqCFFXjzJWo"
      },
      "execution_count": 19,
      "outputs": []
    },
    {
      "cell_type": "code",
      "source": [
        "# 19. Write a program that handles both IndexError and KeyError using a try-except block\n",
        "try:\n",
        "    my_list = [1, 2]\n",
        "    print(my_list[5])\n",
        "    my_dict = {\"a\": 1}\n",
        "    print(my_dict[\"b\"])\n",
        "except IndexError:\n",
        "    print(\"IndexError handled.\")\n",
        "except KeyError:\n",
        "    print(\"KeyError handled.\")\n"
      ],
      "metadata": {
        "colab": {
          "base_uri": "https://localhost:8080/"
        },
        "id": "eFV0qdqFzS1t",
        "outputId": "9626e803-bac2-444a-dddc-09f87589acbd"
      },
      "execution_count": 20,
      "outputs": [
        {
          "output_type": "stream",
          "name": "stdout",
          "text": [
            "IndexError handled.\n"
          ]
        }
      ]
    },
    {
      "cell_type": "code",
      "source": [
        "# 20. How would you open a file and read its contents using a context manager in Python\n",
        "with open(\"file.txt\", \"r\") as f:\n",
        "    content = f.read()\n",
        "    print(content)\n"
      ],
      "metadata": {
        "colab": {
          "base_uri": "https://localhost:8080/"
        },
        "id": "OLEif41VzbbJ",
        "outputId": "cad28ff3-0b81-437b-ef3b-9d820f35d85e"
      },
      "execution_count": 21,
      "outputs": [
        {
          "output_type": "stream",
          "name": "stdout",
          "text": [
            "Hello, Python!\n",
            "New line added\n"
          ]
        }
      ]
    },
    {
      "cell_type": "code",
      "source": [
        "# 21. Write a Python program that reads a file and prints the number of occurrences of a specific wordF\n",
        "word = \"Python\"\n",
        "with open(\"file.txt\", \"r\") as f:\n",
        "    text = f.read()\n",
        "    count = text.count(word)\n",
        "    print(f\"{word} occurred {count} times\")\n"
      ],
      "metadata": {
        "colab": {
          "base_uri": "https://localhost:8080/"
        },
        "id": "iyzOV1guzha5",
        "outputId": "cecca881-0f87-4afe-e060-52b6818a034e"
      },
      "execution_count": 22,
      "outputs": [
        {
          "output_type": "stream",
          "name": "stdout",
          "text": [
            "Python occurred 1 times\n"
          ]
        }
      ]
    },
    {
      "cell_type": "code",
      "source": [
        "# 22. How can you check if a file is empty before attempting to read its contents\n",
        "import os\n",
        "if os.path.getsize(\"file.txt\") == 0:\n",
        "    print(\"File is empty.\")\n"
      ],
      "metadata": {
        "id": "gkDoNTuGzoRW"
      },
      "execution_count": 23,
      "outputs": []
    },
    {
      "cell_type": "code",
      "source": [
        "# 23. Write a Python program that writes to a log file when an error occurs during file handling\n",
        "import logging\n",
        "logging.basicConfig(filename=\"error.log\", level=logging.ERROR)\n",
        "\n",
        "try:\n",
        "    with open(\"file.txt\", \"r\") as f:\n",
        "        print(f.read())\n",
        "except Exception as e:\n",
        "    logging.error(f\"Error reading file: {e}\")\n"
      ],
      "metadata": {
        "colab": {
          "base_uri": "https://localhost:8080/"
        },
        "id": "NS_yjrQCzvBk",
        "outputId": "de3f8dee-88ca-4fcd-c7b1-69b109c9234a"
      },
      "execution_count": 24,
      "outputs": [
        {
          "output_type": "stream",
          "name": "stdout",
          "text": [
            "Hello, Python!\n",
            "New line added\n"
          ]
        }
      ]
    },
    {
      "cell_type": "code",
      "source": [],
      "metadata": {
        "id": "YQZGlEUUz6qC"
      },
      "execution_count": null,
      "outputs": []
    }
  ]
}